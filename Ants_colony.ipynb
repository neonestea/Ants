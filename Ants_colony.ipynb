{
  "cells": [
    {
      "cell_type": "code",
      "execution_count": 103,
      "metadata": {
        "id": "VCsjkEuWuiM9"
      },
      "outputs": [],
      "source": [
        "import math\n",
        "import random\n",
        "import numpy\n",
        "from functools import reduce\n",
        "import sys\n",
        "import getopt\n",
        "import re\n",
        "import time"
      ]
    },
    {
      "cell_type": "code",
      "execution_count": 104,
      "metadata": {
        "id": "hzgmvSyB4wfz"
      },
      "outputs": [],
      "source": [
        "optimalFile = 'E-n101-k14.sol'\n",
        "testFile = 'E-n101-k14.vrp'"
      ]
    },
    {
      "cell_type": "code",
      "execution_count": 105,
      "metadata": {
        "id": "InNyp06FumiG"
      },
      "outputs": [],
      "source": [
        "def getDataFromFile(fileName):\n",
        "    f = open(fileName, \"r\", encoding=\"utf-8\")\n",
        "    content = f.read()\n",
        "    #print(\"Content: \", content)\n",
        "    optimalValue = re.search(\"Optimal value: (\\d+)\", content, re.MULTILINE)\n",
        "    if(optimalValue != None):\n",
        "        optimalValue = optimalValue.group(1)\n",
        "    else:\n",
        "        optimalValue = re.search(\"Best value: (\\d+)\", content, re.MULTILINE)\n",
        "        if(optimalValue != None):\n",
        "            optimalValue = optimalValue.group(1)\n",
        "    capacity = re.search(\"^CAPACITY : (\\d+)$\", content, re.MULTILINE).group(1)\n",
        "    #graph = re.findall(r\"^ (\\d+) (\\d+) (\\d+)$\", content, re.MULTILINE)\n",
        "    graph = re.findall(r\"^(\\d+) (\\d+) (\\d+)$\", content, re.MULTILINE)\n",
        "    dim = re.search(\"^DIMENSION : (\\d+)$\", content, re.MULTILINE).group(1)\n",
        "    print(\"Graph: \", graph)\n",
        "    dim = int(dim)\n",
        "    print(\"dim: \", dim)\n",
        "    #demand = re.findall(r\"^(\\d+) (\\d+) $\", content, re.MULTILINE)\n",
        "    demand = re.findall(r\"^(\\d+) (\\d+)$\", content, re.MULTILINE)\n",
        "    print(\"Demand: \", demand)\n",
        "    graph = {int(a):(int(b),int(c)) for a,b,c in graph}\n",
        "    print(\"graph: \", graph)\n",
        "    demand = {int(a):int(b) for a,b in demand}\n",
        "    print(\"demand: \", demand)\n",
        "    capacity = int(capacity)\n",
        "    optimalValue = int(optimalValue)\n",
        "    return capacity, graph, demand, optimalValue, dim"
      ]
    },
    {
      "cell_type": "code",
      "execution_count": 106,
      "metadata": {
        "id": "MxsafQhQuqls"
      },
      "outputs": [],
      "source": [
        "alfa = 2 # importance of pheromones\n",
        "beta = 7 # importance of distance\n",
        "sigm = 3 # amount of feromone\n",
        "ro = 0.1 # speed of pheromon evaporation\n",
        "th = 80 # initial pheromone level\n",
        "iterations = 1000\n",
        "ants = 14"
      ]
    },
    {
      "cell_type": "code",
      "execution_count": 107,
      "metadata": {
        "id": "85NeAF-8yMyL"
      },
      "outputs": [],
      "source": [
        "def generateGraph(capacityLimit, graph, demand, optimalValue):\n",
        "    vertices = list(graph.keys())\n",
        "    vertices.remove(1)\n",
        "\n",
        "    edges = { (min(a,b),max(a,b)) : numpy.sqrt((graph[a][0]-graph[b][0])**2 + (graph[a][1]-graph[b][1])**2) for a in graph.keys() for b in graph.keys()}\n",
        "    feromones = { (min(a,b),max(a,b)) : 1 for a in graph.keys() for b in graph.keys() if a!=b }\n",
        "    \n",
        "    return vertices, edges, capacityLimit, demand, feromones, optimalValue"
      ]
    },
    {
      "cell_type": "code",
      "execution_count": 108,
      "metadata": {
        "id": "mtcIhldBgp3C"
      },
      "outputs": [],
      "source": [
        "import math"
      ]
    },
    {
      "cell_type": "code",
      "execution_count": 109,
      "metadata": {
        "id": "bNJp91VzyQBW"
      },
      "outputs": [],
      "source": [
        "def solutionOfOneAnt(vertices, edges, capacityLimit, demand, feromones):\n",
        "    solution = list()\n",
        "\n",
        "    while(len(vertices)!=0):\n",
        "        path = list()\n",
        "        city = numpy.random.choice(vertices)\n",
        "        capacity = capacityLimit - demand[city]\n",
        "        path.append(city)\n",
        "        vertices.remove(city)\n",
        "        while(len(vertices)!=0):\n",
        "            probabilities = list(map(lambda x: ((feromones[(min(x,city), max(x,city))])**alfa)*((1/edges[(min(x,city), max(x,city))])**beta), vertices))\n",
        "            #print(probabilities)\n",
        "            for i in range(len(probabilities)):\n",
        "              if math.isinf(probabilities[i]):\n",
        "                probabilities[i] = 1.2224513299473679e-11\n",
        "            probabilities = probabilities/numpy.sum(probabilities)\n",
        "            \n",
        "            city = numpy.random.choice(vertices, p=probabilities)\n",
        "            capacity = capacity - demand[city]\n",
        "\n",
        "            if(capacity>0):\n",
        "                path.append(city)\n",
        "                vertices.remove(city)\n",
        "            else:\n",
        "                break\n",
        "        solution.append(path)\n",
        "    return solution\n",
        "\n",
        "def rateSolution(solution, edges):\n",
        "    s = 0\n",
        "    for i in solution:\n",
        "        a = 1\n",
        "        for j in i:\n",
        "            b = j\n",
        "            s = s + edges[(min(a,b), max(a,b))]\n",
        "            a = b\n",
        "        b = 1\n",
        "        s = s + edges[(min(a,b), max(a,b))]\n",
        "    return s\n"
      ]
    },
    {
      "cell_type": "code",
      "execution_count": 110,
      "metadata": {
        "id": "9TjxIAvOyQdo"
      },
      "outputs": [],
      "source": [
        "def updateFeromone(feromones, solutions, bestSolution):\n",
        "    # L - cost of the destance\n",
        "    Lavg = reduce(lambda x,y: x+y, (i[1] for i in solutions))/len(solutions)\n",
        "    #amount of feromones\n",
        "    feromones = { k : (ro + th/Lavg)*v for (k,v) in feromones.items() }\n",
        "    solutions.sort(key = lambda x: x[1])\n",
        "    if(bestSolution!=None):\n",
        "        if(solutions[0][1] < bestSolution[1]):\n",
        "            bestSolution = solutions[0]\n",
        "        for path in bestSolution[0]:\n",
        "            for i in range(len(path)-1):\n",
        "                feromones[(min(path[i],path[i+1]), max(path[i],path[i+1]))] = sigm/bestSolution[1] + feromones[(min(path[i],path[i+1]), max(path[i],path[i+1]))]\n",
        "    else:\n",
        "        bestSolution = solutions[0]\n",
        "    for l in range(sigm):\n",
        "        paths = solutions[l][0]\n",
        "        L = solutions[l][1]\n",
        "        for path in paths:\n",
        "            for i in range(len(path)-1):\n",
        "                feromones[(min(path[i],path[i+1]), max(path[i],path[i+1]))] = (sigm-(l+1)/L**(l+1)) + feromones[(min(path[i],path[i+1]), max(path[i],path[i+1]))]\n",
        "    return bestSolution"
      ]
    },
    {
      "cell_type": "code",
      "execution_count": 111,
      "metadata": {
        "colab": {
          "base_uri": "https://localhost:8080/"
        },
        "id": "G2gHyayNySDM",
        "outputId": "8b22e633-0bad-46b0-bb03-eed98e2f8135"
      },
      "outputs": [
        {
          "output_type": "stream",
          "name": "stdout",
          "text": [
            "Graph:  [('1', '35', '35'), ('2', '41', '49'), ('3', '35', '17'), ('4', '55', '45'), ('5', '55', '20'), ('6', '15', '30'), ('7', '25', '30'), ('8', '20', '50'), ('9', '10', '43'), ('10', '55', '60'), ('11', '30', '60'), ('12', '20', '65'), ('13', '50', '35'), ('14', '30', '25'), ('15', '15', '10'), ('16', '30', '5'), ('17', '10', '20'), ('18', '5', '30'), ('19', '20', '40'), ('20', '15', '60'), ('21', '45', '65'), ('22', '45', '20'), ('23', '45', '10'), ('24', '55', '5'), ('25', '65', '35'), ('26', '65', '20'), ('27', '45', '30'), ('28', '35', '40'), ('29', '41', '37'), ('30', '64', '42'), ('31', '40', '60'), ('32', '31', '52'), ('33', '35', '69'), ('34', '53', '52'), ('35', '65', '55'), ('36', '63', '65'), ('37', '2', '60'), ('38', '20', '20'), ('39', '5', '5'), ('40', '60', '12'), ('41', '40', '25'), ('42', '42', '7'), ('43', '24', '12'), ('44', '23', '3'), ('45', '11', '14'), ('46', '6', '38'), ('47', '2', '48'), ('48', '8', '56'), ('49', '13', '52'), ('50', '6', '68'), ('51', '47', '47'), ('52', '49', '58'), ('53', '27', '43'), ('54', '37', '31'), ('55', '57', '29'), ('56', '63', '23'), ('57', '53', '12'), ('58', '32', '12'), ('59', '36', '26'), ('60', '21', '24'), ('61', '17', '34'), ('62', '12', '24'), ('63', '24', '58'), ('64', '27', '69'), ('65', '15', '77'), ('66', '62', '77'), ('67', '49', '73'), ('68', '67', '5'), ('69', '56', '39'), ('70', '37', '47'), ('71', '37', '56'), ('72', '57', '68'), ('73', '47', '16'), ('74', '44', '17'), ('75', '46', '13'), ('76', '49', '11'), ('77', '49', '42'), ('78', '53', '43'), ('79', '61', '52'), ('80', '57', '48'), ('81', '56', '37'), ('82', '55', '54'), ('83', '15', '47'), ('84', '14', '37'), ('85', '11', '31'), ('86', '16', '22'), ('87', '4', '18'), ('88', '28', '18'), ('89', '26', '52'), ('90', '26', '35'), ('91', '31', '67'), ('92', '15', '19'), ('93', '22', '22'), ('94', '18', '24'), ('95', '26', '27'), ('96', '25', '24'), ('97', '22', '27'), ('98', '25', '21'), ('99', '19', '21'), ('100', '20', '26'), ('101', '18', '18')]\n",
            "dim:  101\n",
            "Demand:  [('1', '0'), ('2', '10'), ('3', '7'), ('4', '13'), ('5', '19'), ('6', '26'), ('7', '3'), ('8', '5'), ('9', '9'), ('10', '16'), ('11', '16'), ('12', '12'), ('13', '19'), ('14', '23'), ('15', '20'), ('16', '8'), ('17', '19'), ('18', '2'), ('19', '12'), ('20', '17'), ('21', '9'), ('22', '11'), ('23', '18'), ('24', '29'), ('25', '3'), ('26', '6'), ('27', '17'), ('28', '16'), ('29', '16'), ('30', '9'), ('31', '21'), ('32', '27'), ('33', '23'), ('34', '11'), ('35', '14'), ('36', '8'), ('37', '5'), ('38', '8'), ('39', '16'), ('40', '31'), ('41', '9'), ('42', '5'), ('43', '5'), ('44', '7'), ('45', '18'), ('46', '16'), ('47', '1'), ('48', '27'), ('49', '36'), ('50', '30'), ('51', '13'), ('52', '10'), ('53', '9'), ('54', '14'), ('55', '18'), ('56', '2'), ('57', '6'), ('58', '7'), ('59', '18'), ('60', '28'), ('61', '3'), ('62', '13'), ('63', '19'), ('64', '10'), ('65', '9'), ('66', '20'), ('67', '25'), ('68', '25'), ('69', '36'), ('70', '6'), ('71', '5'), ('72', '15'), ('73', '25'), ('74', '9'), ('75', '8'), ('76', '18'), ('77', '13'), ('78', '14'), ('79', '3'), ('80', '23'), ('81', '6'), ('82', '26'), ('83', '16'), ('84', '11'), ('85', '7'), ('86', '41'), ('87', '35'), ('88', '26'), ('89', '9'), ('90', '15'), ('91', '3'), ('92', '1'), ('93', '2'), ('94', '22'), ('95', '27'), ('96', '20'), ('97', '11'), ('98', '12'), ('99', '10'), ('100', '9'), ('101', '17')]\n",
            "graph:  {1: (35, 35), 2: (41, 49), 3: (35, 17), 4: (55, 45), 5: (55, 20), 6: (15, 30), 7: (25, 30), 8: (20, 50), 9: (10, 43), 10: (55, 60), 11: (30, 60), 12: (20, 65), 13: (50, 35), 14: (30, 25), 15: (15, 10), 16: (30, 5), 17: (10, 20), 18: (5, 30), 19: (20, 40), 20: (15, 60), 21: (45, 65), 22: (45, 20), 23: (45, 10), 24: (55, 5), 25: (65, 35), 26: (65, 20), 27: (45, 30), 28: (35, 40), 29: (41, 37), 30: (64, 42), 31: (40, 60), 32: (31, 52), 33: (35, 69), 34: (53, 52), 35: (65, 55), 36: (63, 65), 37: (2, 60), 38: (20, 20), 39: (5, 5), 40: (60, 12), 41: (40, 25), 42: (42, 7), 43: (24, 12), 44: (23, 3), 45: (11, 14), 46: (6, 38), 47: (2, 48), 48: (8, 56), 49: (13, 52), 50: (6, 68), 51: (47, 47), 52: (49, 58), 53: (27, 43), 54: (37, 31), 55: (57, 29), 56: (63, 23), 57: (53, 12), 58: (32, 12), 59: (36, 26), 60: (21, 24), 61: (17, 34), 62: (12, 24), 63: (24, 58), 64: (27, 69), 65: (15, 77), 66: (62, 77), 67: (49, 73), 68: (67, 5), 69: (56, 39), 70: (37, 47), 71: (37, 56), 72: (57, 68), 73: (47, 16), 74: (44, 17), 75: (46, 13), 76: (49, 11), 77: (49, 42), 78: (53, 43), 79: (61, 52), 80: (57, 48), 81: (56, 37), 82: (55, 54), 83: (15, 47), 84: (14, 37), 85: (11, 31), 86: (16, 22), 87: (4, 18), 88: (28, 18), 89: (26, 52), 90: (26, 35), 91: (31, 67), 92: (15, 19), 93: (22, 22), 94: (18, 24), 95: (26, 27), 96: (25, 24), 97: (22, 27), 98: (25, 21), 99: (19, 21), 100: (20, 26), 101: (18, 18)}\n",
            "demand:  {1: 0, 2: 10, 3: 7, 4: 13, 5: 19, 6: 26, 7: 3, 8: 5, 9: 9, 10: 16, 11: 16, 12: 12, 13: 19, 14: 23, 15: 20, 16: 8, 17: 19, 18: 2, 19: 12, 20: 17, 21: 9, 22: 11, 23: 18, 24: 29, 25: 3, 26: 6, 27: 17, 28: 16, 29: 16, 30: 9, 31: 21, 32: 27, 33: 23, 34: 11, 35: 14, 36: 8, 37: 5, 38: 8, 39: 16, 40: 31, 41: 9, 42: 5, 43: 5, 44: 7, 45: 18, 46: 16, 47: 1, 48: 27, 49: 36, 50: 30, 51: 13, 52: 10, 53: 9, 54: 14, 55: 18, 56: 2, 57: 6, 58: 7, 59: 18, 60: 28, 61: 3, 62: 13, 63: 19, 64: 10, 65: 9, 66: 20, 67: 25, 68: 25, 69: 36, 70: 6, 71: 5, 72: 15, 73: 25, 74: 9, 75: 8, 76: 18, 77: 13, 78: 14, 79: 3, 80: 23, 81: 6, 82: 26, 83: 16, 84: 11, 85: 7, 86: 41, 87: 35, 88: 26, 89: 9, 90: 15, 91: 3, 92: 1, 93: 2, 94: 22, 95: 27, 96: 20, 97: 11, 98: 12, 99: 10, 100: 9, 101: 17}\n"
          ]
        }
      ],
      "source": [
        "bestSolution = None\n",
        "capacityLimit, graph, demand, optimalValue, dim = getDataFromFile(testFile)"
      ]
    },
    {
      "cell_type": "code",
      "execution_count": 112,
      "metadata": {
        "id": "qDrAS_D4zXae"
      },
      "outputs": [],
      "source": [
        "vertices, edges, capacityLimit, demand, feromones, optimalValue = generateGraph(capacityLimit, graph, demand, optimalValue)"
      ]
    },
    {
      "cell_type": "code",
      "execution_count": null,
      "metadata": {
        "id": "JqjLlZMoytKd"
      },
      "outputs": [],
      "source": [
        "start_time = time.time()\n",
        "for i in range(iterations):\n",
        "  solutions = list()\n",
        "  for _ in range(ants):\n",
        "      solution = solutionOfOneAnt(vertices.copy(), edges, capacityLimit, demand, feromones)\n",
        "      solutions.append((solution, rateSolution(solution, edges)))\n",
        "  bestSolution = updateFeromone(feromones, solutions, bestSolution)\n",
        "print(\"Solution: \", bestSolution) \n",
        "print(\"time of execution: %s seconds\" %abs (time.time() - start_time)) # вычисление времени выполнения\n"
      ]
    },
    {
      "cell_type": "code",
      "execution_count": null,
      "metadata": {
        "id": "EayeKL_G7Fh7"
      },
      "outputs": [],
      "source": [
        "cost_from_alg = bestSolution[-1]\n",
        "cost_from_alg"
      ]
    },
    {
      "cell_type": "code",
      "execution_count": null,
      "metadata": {
        "id": "-iUrHgzk4-ud"
      },
      "outputs": [],
      "source": [
        "def getResFromFile(fileName):\n",
        "  f = open(fileName, \"r\", encoding=\"utf-8\")\n",
        "  content = f.read()\n",
        "  cost = re.search(\"^Cost (\\d+)$\", content, re.MULTILINE).group(1)\n",
        "  return int(cost)"
      ]
    },
    {
      "cell_type": "code",
      "execution_count": null,
      "metadata": {
        "id": "cUKwhNcj60Lo"
      },
      "outputs": [],
      "source": [
        "cost = getResFromFile(optimalFile)\n",
        "cost"
      ]
    },
    {
      "cell_type": "code",
      "execution_count": null,
      "metadata": {
        "id": "R3A11Q6a42hY"
      },
      "outputs": [],
      "source": [
        "def compareResults(res1, res2):\n",
        "  return abs(res1-res2)"
      ]
    },
    {
      "cell_type": "code",
      "execution_count": null,
      "metadata": {
        "id": "JOL7JzV97Ccz"
      },
      "outputs": [],
      "source": [
        "compareResults(cost, cost_from_alg)"
      ]
    },
    {
      "cell_type": "code",
      "execution_count": null,
      "metadata": {
        "id": "4-xmX_td7Kdy"
      },
      "outputs": [],
      "source": [
        "print(\"Time \", (abs (time.time() - start_time)))\n",
        "print(\"Optimal \", cost)\n",
        "print(\"In fact \", cost_from_alg)\n",
        "print(\"Dim \", dim)"
      ]
    }
  ],
  "metadata": {
    "colab": {
      "provenance": []
    },
    "kernelspec": {
      "display_name": "Python 3",
      "name": "python3"
    },
    "language_info": {
      "name": "python"
    },
    "accelerator": "GPU",
    "gpuClass": "standard"
  },
  "nbformat": 4,
  "nbformat_minor": 0
}