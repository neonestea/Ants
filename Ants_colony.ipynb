{
  "cells": [
    {
      "cell_type": "code",
      "execution_count": 50,
      "metadata": {
        "id": "VCsjkEuWuiM9"
      },
      "outputs": [],
      "source": [
        "import math\n",
        "import random\n",
        "import numpy\n",
        "from functools import reduce\n",
        "import sys\n",
        "import getopt\n",
        "import re\n",
        "import time"
      ]
    },
    {
      "cell_type": "code",
      "execution_count": 51,
      "metadata": {
        "id": "hzgmvSyB4wfz"
      },
      "outputs": [],
      "source": [
        "optimalFile = 'A-n32-k5.sol'\n",
        "testFile = 'A-n32-k5.vrp'"
      ]
    },
    {
      "cell_type": "code",
      "execution_count": 52,
      "metadata": {
        "id": "InNyp06FumiG"
      },
      "outputs": [],
      "source": [
        "def getDataFromFile(fileName):\n",
        "    f = open(fileName, \"r\", encoding=\"utf-8\")\n",
        "    content = f.read()\n",
        "    #print(\"Content: \", content)\n",
        "    optimalValue = re.search(\"Optimal value: (\\d+)\", content, re.MULTILINE)\n",
        "    if(optimalValue != None):\n",
        "        optimalValue = optimalValue.group(1)\n",
        "    else:\n",
        "        optimalValue = re.search(\"Best value: (\\d+)\", content, re.MULTILINE)\n",
        "        if(optimalValue != None):\n",
        "            optimalValue = optimalValue.group(1)\n",
        "    capacity = re.search(\"^CAPACITY : (\\d+)$\", content, re.MULTILINE).group(1)\n",
        "    #graph = re.findall(r\"^ (\\d+) (\\d+) (\\d+)$\", content, re.MULTILINE)\n",
        "    graph = re.findall(r\"^ (\\d+) (\\d+) (\\d+)$\", content, re.MULTILINE)\n",
        "    dim = re.search(\"^DIMENSION : (\\d+)$\", content, re.MULTILINE).group(1)\n",
        "    print(\"Graph: \", graph)\n",
        "    dim = int(dim)\n",
        "    print(\"dim: \", dim)\n",
        "    #demand = re.findall(r\"^(\\d+) (\\d+) $\", content, re.MULTILINE)\n",
        "    demand = re.findall(r\"^(\\d+) (\\d+) $\", content, re.MULTILINE)\n",
        "    print(\"Demand: \", demand)\n",
        "    graph = {int(a):(int(b),int(c)) for a,b,c in graph}\n",
        "    print(\"graph: \", graph)\n",
        "    demand = {int(a):int(b) for a,b in demand}\n",
        "    print(\"demand: \", demand)\n",
        "    capacity = int(capacity)\n",
        "    optimalValue = int(optimalValue)\n",
        "    return capacity, graph, demand, optimalValue, dim"
      ]
    },
    {
      "cell_type": "code",
      "execution_count": 53,
      "metadata": {
        "id": "MxsafQhQuqls"
      },
      "outputs": [],
      "source": [
        "alfa = 2 # importance of pheromones\n",
        "beta = 7 # importance of distance\n",
        "ro = 0.1 # speed of pheromon evaporation\n",
        "th = 80 # importance of avg current solutions' costs\n",
        "iterations = 1000\n",
        "ants = 14"
      ]
    },
    {
      "cell_type": "code",
      "execution_count": 54,
      "metadata": {
        "id": "85NeAF-8yMyL"
      },
      "outputs": [],
      "source": [
        "def generateGraph(capacityLimit, graph, demand, optimalValue):\n",
        "    vertices = list(graph.keys())\n",
        "    vertices.remove(1)\n",
        "\n",
        "    edges = { (min(a,b),max(a,b)) : numpy.sqrt((graph[a][0]-graph[b][0])**2 + (graph[a][1]-graph[b][1])**2) for a in graph.keys() for b in graph.keys()}\n",
        "    feromones = { (min(a,b),max(a,b)) : 1 for a in graph.keys() for b in graph.keys() if a!=b }\n",
        "    \n",
        "    return vertices, edges, capacityLimit, demand, feromones, optimalValue"
      ]
    },
    {
      "cell_type": "code",
      "execution_count": 55,
      "metadata": {
        "id": "mtcIhldBgp3C"
      },
      "outputs": [],
      "source": [
        "import math"
      ]
    },
    {
      "cell_type": "code",
      "execution_count": 56,
      "metadata": {
        "id": "bNJp91VzyQBW"
      },
      "outputs": [],
      "source": [
        "def solutionOfOneAnt(vertices, edges, capacityLimit, demand, feromones):\n",
        "    solution = list()\n",
        "\n",
        "    while(len(vertices)!=0):\n",
        "        path = list()\n",
        "        city = numpy.random.choice(vertices)\n",
        "        capacity = capacityLimit - demand[city]\n",
        "        path.append(city)\n",
        "        vertices.remove(city)\n",
        "        while(len(vertices)!=0):\n",
        "            probabilities = list(map(lambda x: ((feromones[(min(x,city), max(x,city))])**alfa)*((1/edges[(min(x,city), max(x,city))])**beta), vertices))\n",
        "            #print(probabilities)\n",
        "            for i in range(len(probabilities)):\n",
        "              if math.isinf(probabilities[i]):\n",
        "                probabilities[i] = 1.2224513299473679e-11\n",
        "            probabilities = probabilities/numpy.sum(probabilities)\n",
        "            \n",
        "            city = numpy.random.choice(vertices, p=probabilities)\n",
        "            capacity = capacity - demand[city]\n",
        "\n",
        "            if(capacity>0):\n",
        "                path.append(city)\n",
        "                vertices.remove(city)\n",
        "            else:\n",
        "                break\n",
        "        solution.append(path)\n",
        "    return solution\n",
        "\n",
        "def rateSolution(solution, edges):\n",
        "    s = 0\n",
        "    for i in solution:\n",
        "        a = 1\n",
        "        for j in i:\n",
        "            b = j\n",
        "            s = s + edges[(min(a,b), max(a,b))]\n",
        "            a = b\n",
        "        b = 1\n",
        "        s = s + edges[(min(a,b), max(a,b))]\n",
        "    return s\n"
      ]
    },
    {
      "cell_type": "code",
      "execution_count": 57,
      "metadata": {
        "id": "9TjxIAvOyQdo"
      },
      "outputs": [],
      "source": [
        "def updateFeromone(feromones, solutions, bestSolution):\n",
        "    # L - cost of the destance\n",
        "    Lavg = reduce(lambda x,y: x+y, (i[1] for i in solutions))/len(solutions)\n",
        "    #amount of feromones\n",
        "    feromones = { k : (1 - ro) * v + th/Lavg for (k,v) in feromones.items() }\n",
        "    solutions.sort(key = lambda x: x[1])\n",
        "    if(bestSolution!=None):\n",
        "        if(solutions[0][1] < bestSolution[1]):\n",
        "            bestSolution = solutions[0]\n",
        "    #    for path in bestSolution[0]:\n",
        "     #       for i in range(len(path)-1):\n",
        "      #          feromones[(min(path[i],path[i+1]), max(path[i],path[i+1]))] = sigm/bestSolution[1] + feromones[(min(path[i],path[i+1]), max(path[i],path[i+1]))]\n",
        "    else:\n",
        "        bestSolution = solutions[0]\n",
        "    #for l in range(sigm):\n",
        "     #   paths = solutions[l][0]\n",
        "      #  L = solutions[l][1]\n",
        "       # for path in paths:\n",
        "        #    for i in range(len(path)-1):\n",
        "         #       feromones[(min(path[i],path[i+1]), max(path[i],path[i+1]))] = (sigm-(l+1)/L**(l+1)) + feromones[(min(path[i],path[i+1]), max(path[i],path[i+1]))]\n",
        "    return bestSolution"
      ]
    },
    {
      "cell_type": "code",
      "execution_count": 58,
      "metadata": {
        "colab": {
          "base_uri": "https://localhost:8080/"
        },
        "id": "G2gHyayNySDM",
        "outputId": "7c3d6799-dcb8-4d56-c523-beee42a7d953"
      },
      "outputs": [
        {
          "output_type": "stream",
          "name": "stdout",
          "text": [
            "Graph:  [('1', '82', '76'), ('2', '96', '44'), ('3', '50', '5'), ('4', '49', '8'), ('5', '13', '7'), ('6', '29', '89'), ('7', '58', '30'), ('8', '84', '39'), ('9', '14', '24'), ('10', '2', '39'), ('11', '3', '82'), ('12', '5', '10'), ('13', '98', '52'), ('14', '84', '25'), ('15', '61', '59'), ('16', '1', '65'), ('17', '88', '51'), ('18', '91', '2'), ('19', '19', '32'), ('20', '93', '3'), ('21', '50', '93'), ('22', '98', '14'), ('23', '5', '42'), ('24', '42', '9'), ('25', '61', '62'), ('26', '9', '97'), ('27', '80', '55'), ('28', '57', '69'), ('29', '23', '15'), ('30', '20', '70'), ('31', '85', '60'), ('32', '98', '5')]\n",
            "dim:  32\n",
            "Demand:  [('1', '0'), ('2', '19'), ('3', '21'), ('4', '6'), ('5', '19'), ('6', '7'), ('7', '12'), ('8', '16'), ('9', '6'), ('10', '16'), ('11', '8'), ('12', '14'), ('13', '21'), ('14', '16'), ('15', '3'), ('16', '22'), ('17', '18'), ('18', '19'), ('19', '1'), ('20', '24'), ('21', '8'), ('22', '12'), ('23', '4'), ('24', '8'), ('25', '24'), ('26', '24'), ('27', '2'), ('28', '20'), ('29', '15'), ('30', '2'), ('31', '14'), ('32', '9')]\n",
            "graph:  {1: (82, 76), 2: (96, 44), 3: (50, 5), 4: (49, 8), 5: (13, 7), 6: (29, 89), 7: (58, 30), 8: (84, 39), 9: (14, 24), 10: (2, 39), 11: (3, 82), 12: (5, 10), 13: (98, 52), 14: (84, 25), 15: (61, 59), 16: (1, 65), 17: (88, 51), 18: (91, 2), 19: (19, 32), 20: (93, 3), 21: (50, 93), 22: (98, 14), 23: (5, 42), 24: (42, 9), 25: (61, 62), 26: (9, 97), 27: (80, 55), 28: (57, 69), 29: (23, 15), 30: (20, 70), 31: (85, 60), 32: (98, 5)}\n",
            "demand:  {1: 0, 2: 19, 3: 21, 4: 6, 5: 19, 6: 7, 7: 12, 8: 16, 9: 6, 10: 16, 11: 8, 12: 14, 13: 21, 14: 16, 15: 3, 16: 22, 17: 18, 18: 19, 19: 1, 20: 24, 21: 8, 22: 12, 23: 4, 24: 8, 25: 24, 26: 24, 27: 2, 28: 20, 29: 15, 30: 2, 31: 14, 32: 9}\n"
          ]
        }
      ],
      "source": [
        "bestSolution = None\n",
        "capacityLimit, graph, demand, optimalValue, dim = getDataFromFile(testFile)"
      ]
    },
    {
      "cell_type": "code",
      "execution_count": 59,
      "metadata": {
        "id": "qDrAS_D4zXae"
      },
      "outputs": [],
      "source": [
        "vertices, edges, capacityLimit, demand, feromones, optimalValue = generateGraph(capacityLimit, graph, demand, optimalValue)"
      ]
    },
    {
      "cell_type": "code",
      "execution_count": 60,
      "metadata": {
        "colab": {
          "base_uri": "https://localhost:8080/"
        },
        "id": "JqjLlZMoytKd",
        "outputId": "87d201f9-e415-4f0d-f549-4da74601bd5a"
      },
      "outputs": [
        {
          "output_type": "stream",
          "name": "stdout",
          "text": [
            "Solution:  ([[29, 5, 12, 24, 4, 3, 7], [18, 20, 32, 22, 14, 8, 27], [30, 19, 9, 10, 23, 16, 11, 26, 6, 21], [31, 17, 2, 13, 15, 25], [28]], 823.5740219235631)\n",
            "time of execution: 44.55662178993225 seconds\n"
          ]
        }
      ],
      "source": [
        "start_time = time.time()\n",
        "for i in range(iterations):\n",
        "  solutions = list()\n",
        "  for _ in range(ants):\n",
        "      solution = solutionOfOneAnt(vertices.copy(), edges, capacityLimit, demand, feromones)\n",
        "      solutions.append((solution, rateSolution(solution, edges)))\n",
        "  bestSolution = updateFeromone(feromones, solutions, bestSolution)\n",
        "print(\"Solution: \", bestSolution) \n",
        "print(\"time of execution: %s seconds\" %abs (time.time() - start_time)) # вычисление времени выполнения\n"
      ]
    },
    {
      "cell_type": "code",
      "execution_count": 61,
      "metadata": {
        "id": "EayeKL_G7Fh7",
        "colab": {
          "base_uri": "https://localhost:8080/"
        },
        "outputId": "311d3d1a-b4aa-4e29-b6a5-71942aa381f2"
      },
      "outputs": [
        {
          "output_type": "execute_result",
          "data": {
            "text/plain": [
              "823.5740219235631"
            ]
          },
          "metadata": {},
          "execution_count": 61
        }
      ],
      "source": [
        "cost_from_alg = bestSolution[-1]\n",
        "cost_from_alg"
      ]
    },
    {
      "cell_type": "code",
      "execution_count": 62,
      "metadata": {
        "id": "-iUrHgzk4-ud"
      },
      "outputs": [],
      "source": [
        "def getResFromFile(fileName):\n",
        "  f = open(fileName, \"r\", encoding=\"utf-8\")\n",
        "  content = f.read()\n",
        "  cost = re.search(\"^Cost (\\d+)$\", content, re.MULTILINE).group(1)\n",
        "  return int(cost)"
      ]
    },
    {
      "cell_type": "code",
      "execution_count": 63,
      "metadata": {
        "id": "cUKwhNcj60Lo",
        "colab": {
          "base_uri": "https://localhost:8080/"
        },
        "outputId": "e6cdb8c2-8032-402c-92ce-0b3360d547f2"
      },
      "outputs": [
        {
          "output_type": "execute_result",
          "data": {
            "text/plain": [
              "784"
            ]
          },
          "metadata": {},
          "execution_count": 63
        }
      ],
      "source": [
        "cost = getResFromFile(optimalFile)\n",
        "cost"
      ]
    },
    {
      "cell_type": "code",
      "execution_count": 64,
      "metadata": {
        "id": "R3A11Q6a42hY"
      },
      "outputs": [],
      "source": [
        "def compareResults(res1, res2):\n",
        "  return abs(res1-res2)"
      ]
    },
    {
      "cell_type": "code",
      "execution_count": 65,
      "metadata": {
        "id": "JOL7JzV97Ccz",
        "colab": {
          "base_uri": "https://localhost:8080/"
        },
        "outputId": "d49a4cb2-981b-4d67-f5e1-ce383e22274c"
      },
      "outputs": [
        {
          "output_type": "execute_result",
          "data": {
            "text/plain": [
              "39.57402192356312"
            ]
          },
          "metadata": {},
          "execution_count": 65
        }
      ],
      "source": [
        "compareResults(cost, cost_from_alg)"
      ]
    },
    {
      "cell_type": "code",
      "execution_count": 66,
      "metadata": {
        "id": "4-xmX_td7Kdy",
        "colab": {
          "base_uri": "https://localhost:8080/"
        },
        "outputId": "d8455cd7-96c1-4362-dd22-cf4699ed6d34"
      },
      "outputs": [
        {
          "output_type": "stream",
          "name": "stdout",
          "text": [
            "Time  44.61202812194824\n",
            "Optimal  784\n",
            "In fact  823.5740219235631\n",
            "Dim  32\n"
          ]
        }
      ],
      "source": [
        "print(\"Time \", (abs (time.time() - start_time)))\n",
        "print(\"Optimal \", cost)\n",
        "print(\"In fact \", cost_from_alg)\n",
        "print(\"Dim \", dim)"
      ]
    }
  ],
  "metadata": {
    "colab": {
      "provenance": []
    },
    "kernelspec": {
      "display_name": "Python 3",
      "name": "python3"
    },
    "language_info": {
      "name": "python"
    },
    "accelerator": "GPU",
    "gpuClass": "standard"
  },
  "nbformat": 4,
  "nbformat_minor": 0
}
